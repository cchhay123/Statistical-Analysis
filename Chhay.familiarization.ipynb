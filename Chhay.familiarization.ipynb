{
    "metadata": {
        "kernelspec": {
            "name": "SQL",
            "display_name": "SQL",
            "language": "sql"
        },
        "language_info": {
            "name": "sql",
            "version": ""
        }
    },
    "nbformat_minor": 2,
    "nbformat": 4,
    "cells": [
        {
            "cell_type": "markdown",
            "source": [
                "Chamroeun Chhay\n",
                "\n",
                "  \n",
                "\n",
                "SQL Familiarization Assignment"
            ],
            "metadata": {
                "azdata_cell_guid": "e7388a54-e726-4e04-aa04-787be13ae491"
            },
            "attachments": {}
        },
        {
            "cell_type": "code",
            "source": [
                "SELECT FirstName, LastName\n",
                "FROM Person.Person\n",
                "WHERE FirstName = 'Allison'"
            ],
            "metadata": {
                "azdata_cell_guid": "7e5c9be1-4f46-4945-b020-b9a96cdca0dc",
                "language": "sql",
                "tags": [
                    "hide_input"
                ]
            },
            "outputs": [
                {
                    "output_type": "display_data",
                    "data": {
                        "text/html": "(46 rows affected)"
                    },
                    "metadata": {}
                },
                {
                    "output_type": "display_data",
                    "data": {
                        "text/html": "Total execution time: 00:00:00.037"
                    },
                    "metadata": {}
                },
                {
                    "output_type": "execute_result",
                    "metadata": {},
                    "execution_count": 1,
                    "data": {
                        "application/vnd.dataresource+json": {
                            "schema": {
                                "fields": [
                                    {
                                        "name": "FirstName"
                                    },
                                    {
                                        "name": "LastName"
                                    }
                                ]
                            },
                            "data": [
                                {
                                    "FirstName": "Allison",
                                    "LastName": "Adams"
                                },
                                {
                                    "FirstName": "Allison",
                                    "LastName": "Allen"
                                },
                                {
                                    "FirstName": "Allison",
                                    "LastName": "Bailey"
                                },
                                {
                                    "FirstName": "Allison",
                                    "LastName": "Baker"
                                },
                                {
                                    "FirstName": "Allison",
                                    "LastName": "Bell"
                                },
                                {
                                    "FirstName": "Allison",
                                    "LastName": "Brooks"
                                },
                                {
                                    "FirstName": "Allison",
                                    "LastName": "Campbell"
                                },
                                {
                                    "FirstName": "Allison",
                                    "LastName": "Carter"
                                },
                                {
                                    "FirstName": "Allison",
                                    "LastName": "Collins"
                                },
                                {
                                    "FirstName": "Allison",
                                    "LastName": "Cooper"
                                },
                                {
                                    "FirstName": "Allison",
                                    "LastName": "Cox"
                                },
                                {
                                    "FirstName": "Allison",
                                    "LastName": "Edwards"
                                },
                                {
                                    "FirstName": "Allison",
                                    "LastName": "Evans"
                                },
                                {
                                    "FirstName": "Allison",
                                    "LastName": "Gonzalez"
                                },
                                {
                                    "FirstName": "Allison",
                                    "LastName": "Gray"
                                },
                                {
                                    "FirstName": "Allison",
                                    "LastName": "Green"
                                },
                                {
                                    "FirstName": "Allison",
                                    "LastName": "Hernandez"
                                },
                                {
                                    "FirstName": "Allison",
                                    "LastName": "Howard"
                                },
                                {
                                    "FirstName": "Allison",
                                    "LastName": "James"
                                },
                                {
                                    "FirstName": "Allison",
                                    "LastName": "Kelly"
                                },
                                {
                                    "FirstName": "Allison",
                                    "LastName": "King"
                                },
                                {
                                    "FirstName": "Allison",
                                    "LastName": "Lopez"
                                },
                                {
                                    "FirstName": "Allison",
                                    "LastName": "Mitchell"
                                },
                                {
                                    "FirstName": "Allison",
                                    "LastName": "Morris"
                                },
                                {
                                    "FirstName": "Allison",
                                    "LastName": "Murphy"
                                },
                                {
                                    "FirstName": "Allison",
                                    "LastName": "Nelson"
                                },
                                {
                                    "FirstName": "Allison",
                                    "LastName": "Parker"
                                },
                                {
                                    "FirstName": "Allison",
                                    "LastName": "Perez"
                                },
                                {
                                    "FirstName": "Allison",
                                    "LastName": "Peterson"
                                },
                                {
                                    "FirstName": "Allison",
                                    "LastName": "Phillips"
                                },
                                {
                                    "FirstName": "Allison",
                                    "LastName": "Ramirez"
                                },
                                {
                                    "FirstName": "Allison",
                                    "LastName": "Reed"
                                },
                                {
                                    "FirstName": "Allison",
                                    "LastName": "Richardson"
                                },
                                {
                                    "FirstName": "Allison",
                                    "LastName": "Rivera"
                                },
                                {
                                    "FirstName": "Allison",
                                    "LastName": "Roberts"
                                },
                                {
                                    "FirstName": "Allison",
                                    "LastName": "Rogers"
                                },
                                {
                                    "FirstName": "Allison",
                                    "LastName": "Sanchez"
                                },
                                {
                                    "FirstName": "Allison",
                                    "LastName": "Sanders"
                                },
                                {
                                    "FirstName": "Allison",
                                    "LastName": "Scott"
                                },
                                {
                                    "FirstName": "Allison",
                                    "LastName": "Stewart"
                                },
                                {
                                    "FirstName": "Allison",
                                    "LastName": "Torres"
                                },
                                {
                                    "FirstName": "Allison",
                                    "LastName": "Turner"
                                },
                                {
                                    "FirstName": "Allison",
                                    "LastName": "Ward"
                                },
                                {
                                    "FirstName": "Allison",
                                    "LastName": "Watson"
                                },
                                {
                                    "FirstName": "Allison",
                                    "LastName": "Wright"
                                },
                                {
                                    "FirstName": "Allison",
                                    "LastName": "Young"
                                }
                            ]
                        },
                        "text/html": [
                            "<table>",
                            "<tr><th>FirstName</th><th>LastName</th></tr>",
                            "<tr><td>Allison</td><td>Adams</td></tr>",
                            "<tr><td>Allison</td><td>Allen</td></tr>",
                            "<tr><td>Allison</td><td>Bailey</td></tr>",
                            "<tr><td>Allison</td><td>Baker</td></tr>",
                            "<tr><td>Allison</td><td>Bell</td></tr>",
                            "<tr><td>Allison</td><td>Brooks</td></tr>",
                            "<tr><td>Allison</td><td>Campbell</td></tr>",
                            "<tr><td>Allison</td><td>Carter</td></tr>",
                            "<tr><td>Allison</td><td>Collins</td></tr>",
                            "<tr><td>Allison</td><td>Cooper</td></tr>",
                            "<tr><td>Allison</td><td>Cox</td></tr>",
                            "<tr><td>Allison</td><td>Edwards</td></tr>",
                            "<tr><td>Allison</td><td>Evans</td></tr>",
                            "<tr><td>Allison</td><td>Gonzalez</td></tr>",
                            "<tr><td>Allison</td><td>Gray</td></tr>",
                            "<tr><td>Allison</td><td>Green</td></tr>",
                            "<tr><td>Allison</td><td>Hernandez</td></tr>",
                            "<tr><td>Allison</td><td>Howard</td></tr>",
                            "<tr><td>Allison</td><td>James</td></tr>",
                            "<tr><td>Allison</td><td>Kelly</td></tr>",
                            "<tr><td>Allison</td><td>King</td></tr>",
                            "<tr><td>Allison</td><td>Lopez</td></tr>",
                            "<tr><td>Allison</td><td>Mitchell</td></tr>",
                            "<tr><td>Allison</td><td>Morris</td></tr>",
                            "<tr><td>Allison</td><td>Murphy</td></tr>",
                            "<tr><td>Allison</td><td>Nelson</td></tr>",
                            "<tr><td>Allison</td><td>Parker</td></tr>",
                            "<tr><td>Allison</td><td>Perez</td></tr>",
                            "<tr><td>Allison</td><td>Peterson</td></tr>",
                            "<tr><td>Allison</td><td>Phillips</td></tr>",
                            "<tr><td>Allison</td><td>Ramirez</td></tr>",
                            "<tr><td>Allison</td><td>Reed</td></tr>",
                            "<tr><td>Allison</td><td>Richardson</td></tr>",
                            "<tr><td>Allison</td><td>Rivera</td></tr>",
                            "<tr><td>Allison</td><td>Roberts</td></tr>",
                            "<tr><td>Allison</td><td>Rogers</td></tr>",
                            "<tr><td>Allison</td><td>Sanchez</td></tr>",
                            "<tr><td>Allison</td><td>Sanders</td></tr>",
                            "<tr><td>Allison</td><td>Scott</td></tr>",
                            "<tr><td>Allison</td><td>Stewart</td></tr>",
                            "<tr><td>Allison</td><td>Torres</td></tr>",
                            "<tr><td>Allison</td><td>Turner</td></tr>",
                            "<tr><td>Allison</td><td>Ward</td></tr>",
                            "<tr><td>Allison</td><td>Watson</td></tr>",
                            "<tr><td>Allison</td><td>Wright</td></tr>",
                            "<tr><td>Allison</td><td>Young</td></tr>",
                            "</table>"
                        ]
                    }
                }
            ],
            "execution_count": 1
        }
    ]
}